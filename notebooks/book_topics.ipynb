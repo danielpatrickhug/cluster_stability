{
 "cells": [
  {
   "cell_type": "code",
   "execution_count": null,
   "metadata": {},
   "outputs": [],
   "source": [
    "from src._clusterstability import *"
   ]
  },
  {
   "cell_type": "code",
   "execution_count": null,
   "metadata": {},
   "outputs": [],
   "source": [
    "#Download text file of book from Project Gutenberg\n",
    "import requests\n",
    "url = 'https://www.gutenberg.org/files/11/11-0.txt'\n",
    "r = requests.get(url)\n",
    "text = r.text"
   ]
  },
  {
   "cell_type": "code",
   "execution_count": null,
   "metadata": {},
   "outputs": [],
   "source": [
    "#Clean text remove non ascii characters\n",
    "import re\n",
    "text = re.sub(r'[^\\x00-\\x7f]',r' ', text)"
   ]
  },
  {
   "cell_type": "code",
   "execution_count": null,
   "metadata": {},
   "outputs": [],
   "source": [
    "#break text into sections\n",
    "sections = text.split('CHAPTER ')[13:]\n",
    "for s in sections:\n",
    "    print(len(s))\n"
   ]
  },
  {
   "cell_type": "code",
   "execution_count": null,
   "metadata": {},
   "outputs": [],
   "source": [
    "for s in sections:\n",
    "    #convert long string into list of paragraphs\n",
    "    paragraphs = s.split('\\n')\n",
    "    topics = get_eigen_topics(paragraphs)\n",
    "    print(topics)\n",
    "    print('\\n')   "
   ]
  }
 ],
 "metadata": {
  "kernelspec": {
   "display_name": "Python 3.10.4 64-bit",
   "language": "python",
   "name": "python3"
  },
  "language_info": {
   "name": "python",
   "version": "3.10.4"
  },
  "orig_nbformat": 4,
  "vscode": {
   "interpreter": {
    "hash": "3ad933181bd8a04b432d3370b9dc3b0662ad032c4dfaa4e4f1596c548f763858"
   }
  }
 },
 "nbformat": 4,
 "nbformat_minor": 2
}
