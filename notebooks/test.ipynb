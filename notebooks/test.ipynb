{
 "cells": [
  {
   "cell_type": "code",
   "execution_count": 43,
   "metadata": {},
   "outputs": [],
   "source": [
    "\n",
    "from src._clusterstability import *\n",
    "from sentence_transformers import SentenceTransformer, util\n",
    "import torch"
   ]
  },
  {
   "cell_type": "code",
   "execution_count": null,
   "metadata": {},
   "outputs": [],
   "source": [
    "from sklearn.datasets import fetch_20newsgroups"
   ]
  },
  {
   "cell_type": "code",
   "execution_count": null,
   "metadata": {},
   "outputs": [],
   "source": [
    "categories = ['comp.graphics']#, 'talk.religion.misc', 'sci.space', 'alt.atheism']\n",
    "remove = ('headers', 'footers', 'quotes')\n",
    "newsgroups_train = fetch_20newsgroups(subset='train', categories=categories, remove=remove)\n",
    "newsgroups_test = fetch_20newsgroups(subset='test', categories=categories, remove=remove)"
   ]
  },
  {
   "cell_type": "code",
   "execution_count": null,
   "metadata": {},
   "outputs": [],
   "source": [
    "topics = get_eigen_topics(newsgroups_train.data)"
   ]
  },
  {
   "cell_type": "code",
   "execution_count": 44,
   "metadata": {},
   "outputs": [
    {
     "name": "stderr",
     "output_type": "stream",
     "text": [
      "Using custom data configuration Gustavosta--Stable-Diffusion-Prompts-d22aeec0ba2a9fdb\n",
      "Found cached dataset parquet (/home/codespace/.cache/huggingface/datasets/Gustavosta___parquet/Gustavosta--Stable-Diffusion-Prompts-d22aeec0ba2a9fdb/0.0.0/2a3b91fbd88a2c90d1dbbb32b460cf621d31bd5b05b934492fdef7d8d6f236ec)\n",
      "100%|██████████| 2/2 [00:00<00:00, 920.81it/s]\n"
     ]
    }
   ],
   "source": [
    "from datasets import load_dataset\n",
    "ds = load_dataset(\"Gustavosta/Stable-Diffusion-Prompts\")\n",
    "prompts = []\n",
    "for i, prompt in enumerate(ds['train']):\n",
    "    prompts.append(prompt['Prompt'])\n"
   ]
  },
  {
   "cell_type": "code",
   "execution_count": null,
   "metadata": {},
   "outputs": [],
   "source": [
    "len(prompts)"
   ]
  },
  {
   "cell_type": "code",
   "execution_count": null,
   "metadata": {},
   "outputs": [],
   "source": [
    "topics = get_eigen_topics(prompts[2000:4000])\n",
    "topics"
   ]
  },
  {
   "cell_type": "code",
   "execution_count": 46,
   "metadata": {},
   "outputs": [
    {
     "name": "stdout",
     "output_type": "stream",
     "text": [
      "19\n"
     ]
    }
   ],
   "source": [
    "k = get_best_k(prompts[2000:4000], model_name='paraphrase-MiniLM-L6-v2', device='cpu')\n",
    "print(k)"
   ]
  },
  {
   "cell_type": "code",
   "execution_count": 47,
   "metadata": {},
   "outputs": [
    {
     "data": {
      "text/plain": [
       "19"
      ]
     },
     "execution_count": 47,
     "metadata": {},
     "output_type": "execute_result"
    }
   ],
   "source": [
    "clusters = cluster_documents(prompts[2000:4000], num_clusters=k, model_name='paraphrase-MiniLM-L6-v2', device='cpu')\n",
    "len(clusters)"
   ]
  },
  {
   "cell_type": "code",
   "execution_count": 49,
   "metadata": {},
   "outputs": [
    {
     "name": "stdout",
     "output_type": "stream",
     "text": [
      "CountVectorizer(stop_words='english')\n",
      "['nightingale victorian detailed art studio ghibli trending library', 'nightingale victorian adolecent manor light pixiv greg grimdark', 'art digital concept books composition shot pen cinematic', 'wooden greek thrown photograph mug stoneware style hyperrealism', 'artgerm armstrong doom milk drinking creates rolf doctor', 'yogurt meal wlop messy mucha dogs hot artgerm', '8k uhd ciri witcher bath concept wooden dogs', 'yogurt fanbox finely florence flowers focus gapmoe ghibli']\n",
      "\n",
      "\n",
      "\n",
      "CountVectorizer(stop_words='english')\n",
      "['nyc titled year going plated make kills gundam', 'artstation trending engine unreal render octane detailed cgsociety', 'jetpack artstation beam trending digital ball illustration neon', 'concept cgsociety render unreal octane engine art artgerm', 'jetpack beam shot animation key dragon mountain wearing', 'jetpack beam cinematic 8k realistic photographic concept glowing', 'lighting portrait steampunk robotic wires concept room lights', 'style blue like black field beautiful painting steampunk', 'realistic concept neon photographic professional artstation john minimalist', 'fantasy cgsociety game alien 8k magic professional basil']\n",
      "\n",
      "\n",
      "\n",
      "CountVectorizer(stop_words='english')\n",
      "['hindlegs looks second stallion flames horseman carries stroke', 'portrait detailed trending artstation lighting modern face style', 'art artgerm trending style colors comic vibrant hard', 'wlop lighting boris vallejo giancola donato art artgerm', 'artstation smooth sharp digital focus portrait peter painting', 'art concept hair lighting digital beautiful futuristic painting', 'detailed highly black white red concept hair trending', 'greg rutkowski lighting painting artstation ilustration hq alphonse', 'concept highly details alen kopera tomasz mohrbacher peter', 'trending wearing glowing lighting eyes pose dynamic highly']\n",
      "\n",
      "\n",
      "\n",
      "CountVectorizer(stop_words='english')\n"
     ]
    },
    {
     "name": "stderr",
     "output_type": "stream",
     "text": [
      "/home/codespace/.local/lib/python3.10/site-packages/sklearn/utils/deprecation.py:87: FutureWarning: Function get_feature_names is deprecated; get_feature_names is deprecated in 1.0 and will be removed in 1.2. Please use get_feature_names_out instead.\n",
      "  warnings.warn(msg, category=FutureWarning)\n"
     ]
    },
    {
     "name": "stdout",
     "output_type": "stream",
     "text": [
      "['attractive alex larsson finland steve grey tom ellis', 'render octane cinematic lighting detailed beautiful artwork wlop', 'detailed lighting extremely epic fi digital incredible photo', 'beautiful alphonse hair greek mucha eyes detailed god', 'beautiful portrait wlop armor eyes golden lights glowing', 'art goddess artstation painting body fantasy artwork william', 'glowing lights smooth sci extremely greek william artstation', 'art body highly symmetry glowing lights god greek', 'highly illustration solid long sharp high shadows white', 'body art engine unreal concept alphonse portrait realistic']\n",
      "\n",
      "\n",
      "\n",
      "CountVectorizer(stop_words='english')\n",
      "['true got know ve supergirl far lofi pixar', 'render octane cinematic lighting trending 8k light artstation', 'greg rutkowski artgerm octane render water shows star', 'rutkowski greg lighting cinematic trending volumetric ultra realistic', 'cinematic star water shows lighting art small woman', 'unreal engine cinematic rays mumford dan cosmic pixiv', 'greg rutkowski artstation light trending digital epic beautiful', 'art concept smooth rutkowski cinematic mucha alphonse greg', 'art high concept octane lighting hyper volumetric beautiful', 'detailed colors highly light style epic lighting hyper']\n",
      "\n",
      "\n",
      "\n",
      "CountVectorizer(stop_words='english')\n",
      "['rendered number original sims ranking pastel brightness gouache', 'art detailed render concept intricate greg painting highly', 'studio makoto shinkai pixiv ghibli visual fanbox key', 'digital focus illustration artgerm beautiful detailed smooth mucha', 'hair shot anime face artstation short medium portrait', 'beautiful render cinematic super japanese dramatic atmosphere novel', 'japanese lighting beautiful perfect greg black gapmoe alphonse', 'rutkowski cinematic greg artgerm girl ilya wlop dramatic', 'face wlop rutkowski beautiful fantasy mucha alphonse pretty', 'concept anime art wlop character portrait realistic detailed']\n",
      "\n",
      "\n",
      "\n",
      "CountVectorizer(stop_words='english')\n",
      "['zombiegirl cute human clothes fancy portal space gaping', 'brain smiling gaping portal space fancy clothes human', 'zombie modeling hiphop female streetwear drip body dripping', 'brain portal space gaping fancy clothes body modeling', 'body smiling view portrait rocker acoustic cute human', 'fancy clothes swag dripping brain portrait view rocker', 'risograph fancy clothes brain playing punk guitar intricated', 'cute human brain swag dripping zombie fancy clothes']\n",
      "\n",
      "\n",
      "\n",
      "CountVectorizer(stop_words='english')\n",
      "['1080p redwoods silvery bruegel overhead maori lit strings', 'sharp game focus digital illustration intricate art highly', 'art concept greg rutkowski cinematic volumetric grass lighting', 'trending building high rutkowski greg artstation apocalyptic beautiful', 'game octane render view trending lighting isometric hockey', 'detailed lighting game vivid sky grass view epic', 'greg rutkowski game view beautiful light painting artgerm', 'cinematic lighting game building ancient greg rutkowski rubble', 'beautiful octane render digital city artgerm art artstation', 'cinematic game artstation city photo cgsociety hq realism']\n",
      "\n",
      "\n",
      "\n",
      "CountVectorizer(stop_words='english')\n",
      "['cosby brad bob pitt ross dog rabid charcoal', 'art digital concept fantasy sharp unreal engine focus', 'detailed beautiful rainforest romantic enchanting print achingly trending', 'frank minimalistic gilleard james tree stella colorful minimalism', 'beautiful rutkowski greg james tree stella gilleard minimalism', 'concept detailed deviantart print enchanting romantic rainforest achingly', 'digital engine unreal rule thirds image uhd pinterest', 'detailed sharp 8k focus elegant ultra highly intricate', 'digital realistic render sharp focus intricate beautiful octane', 'interior concept light ultra detailed cinematic angle coming']\n",
      "\n",
      "\n",
      "\n",
      "CountVectorizer(stop_words='english')\n",
      "['rendering paul vinci crazy da dano wild study', 'detailed digital artstation focus intricate highly painting illustration', 'mucha alphonse artgerm rutkowski greg focus sharp illustration', 'fantasy painting lighting focus sharp magic elegant volumetric', 'greg fantasy portrait rutkowski artgerm rpg style hair', 'elegant render fantasy intricate artstation trending matte concept', 'intricate painting highly detailed details fantasy unreal cinematic', 'fantasy art details trending epic symmetrical realistic cgsociety', 'artstation hyper trending composition lighting volumetric focus 3d', 'art 8k smooth fantasy magic wlop cgsociety cinematic']\n",
      "\n",
      "\n",
      "\n",
      "CountVectorizer(stop_words='english')\n",
      "['thing carpenter kurt russell sylvain sarrailh artistic bottle', 'painting trending hard shot teng gil organic elvgren', 'art colors beautiful 8k face trending illustration complementing', 'detailed intricate painting 8k illustration highly colors oil', 'face artstation wlop trending mohrbacher leyendecker round peter', 'illustration focus art leyendecker giancola christian donato joseph', 'portrait trending artstation artgerm art wlop style engine', 'detailed trending highly concept resolution extremely artstation style', 'realistic detailed fine smooth james details character lau', 'smooth digital adolphe william bouguereau illustration hard artgerm']\n",
      "\n",
      "\n",
      "\n",
      "CountVectorizer(stop_words='english')\n",
      "['lolita victo clothing surrealistic display range drender wedding', 'art intricate artstation trending detailed unreal engine hyper', 'detailed art lighting highly painting digital masterpiece james', 'lighting detailed octane trending artstation stunning masterpiece hyper', 'art concept illustration portrait realistic cinematic artstation jia', 'cinematic concept hyper realistic volumetric render octane painted', 'artstation trending painting dramatic artgerm wlop greg octane', 'realistic cinematic hyper volumetric trending portrait light baroque', 'dark concept render noir dramatic lighting volumetric fantasy', 'realistic face painting 3d oil light octane portrait']\n",
      "\n",
      "\n",
      "\n",
      "CountVectorizer(stop_words='english')\n",
      "['cowboy corgi tiny don bluth kawacy fox closeup', 'painting animal hue cold gradient background tone beksinski', 'illustration focus sharp smooth digital intricate concept alphonse', 'trending render artstation octane cgsociety unreal engine 8k', 'detailed trending artstation highly painting intricate elegant sharp', 'greg rutkowski mucha alphonse trending lighting cat animal', 'tar art concept sticky trending dripping artstation drawing', 'tar detailed realistic background dripping animal lighting sticky', 'art detailed elegant octane fantasy creature illustration matte', 'smooth beautiful artstation hyper artgerm giancola donato cinematic']\n",
      "\n",
      "\n",
      "\n",
      "CountVectorizer(stop_words='english')\n",
      "['simpson skin leonardo yellow vinci elemental earth apocalyptic', 'painted stanley artgerm rutkowski greg lau background light', 'art focus concept mucha alphonse elegant sharp greg', 'rutkowski greg intricate fantasy artgerm detailed alphonse illustration', 'artstation sharp high artwork mucha trending alphonse focus', 'lighting cinematic painting artstation digital render illustration octane', 'artwork rutkowski greg fantasy lighting knight high realistic', 'art trending illustration hyper pencil masterpiece stunning station', 'artwork artgerm pencil illustration illustrated shadowing masterpiece beautiful', 'cinematic artstation portrait artwork highly color sharp digital']\n",
      "\n",
      "\n",
      "\n",
      "CountVectorizer(stop_words='english')\n",
      "['nagel patrick artist wylie zlamany playing infinite universe', 'alphonse mucha greg rutkowski illustration concept smooth focus', 'rutkowski greg portrait woman eyes trending mucha alphonse', 'greg rutkowski artgerm mucha alphonse intricate beautiful colors', 'art woman concept illustration eyes colors beautiful winning', 'face painting symmetrical artstation lighting purple portrait blue', 'eyes beautiful art light hair looking face fantasy', 'art realistic details render high engine unreal octane', 'painting digital unreal engine render smooth 8k alphonse', 'artgerm painting fantasy illustration digital hair long style']\n",
      "\n",
      "\n",
      "\n",
      "CountVectorizer(stop_words='english')\n",
      "['joshua pallete centipede quirky welcome spooky strange shades', 'focus illustration digital art painting highly elegant artgerm', 'giancola donato sharp cinematic lighting artstation beautiful painting', 'portrait intricate fi sci details vintage concept michael', 'art portrait concept lighting rutkowski mucha masterpiece alphonse', 'trending twin peaks artstation scene art clean unreal', 'michael twin peaks details illustration greg painting whelan', 'detailed trending james francis bacon highly jean color', 'octane detailed render symmetrical glitch effects intricate rutkowski', 'concept cinematic art painting effects glitch lighting peaks']\n",
      "\n",
      "\n",
      "\n",
      "CountVectorizer(stop_words='english')\n",
      "['tomba azrael thy sever hearken evening tolls thou', 'trending jean james beautiful face portrait rossdraws stanley', 'digital elegant highly james jean artgerm intricate andrei', 'trending detailed artstation painting digital white highly body', 'beautiful lighting detailed light flower princess focus highly', 'lighting 8k warm gold volumetric art artstation detailed', 'greg rutkowski eyes hair white gold painting painted', 'artgerm artstation illustration trending intricate rutkowski winning award', 'painting face white matte intricate light cinematic lighting', 'rutkowski greg background mucha alphonse realistic ruan jia']\n",
      "\n",
      "\n",
      "\n",
      "CountVectorizer(stop_words='english')\n",
      "['inside tom mecha bagshaw chloe bennett skeletal skeksis', 'face beautiful artgerm lighting realistic eyes girl cinematic', 'face realistic detailed portrait natural beautiful shaded elegant', 'greg rutkowski beautiful painting portrait girl black digital', 'realistic lighting shaded rutkowski greg fine details wear', 'artgerm stanley lau digital portrait rossdraws eyes wlop', 'detailed white wearing hair highly style woman cut', 'beautiful young intricate style high photo definition artgerm', 'cute detailed trending artstation fantasy girl illustration focus', 'beautiful young face alluring wlop symmetrical kuvshinov detailed']\n",
      "\n",
      "\n",
      "\n",
      "CountVectorizer(stop_words='english')\n",
      "['mechanically gas mysterious uniform woman augmented animal custom', 'octane render artwork glowing trending cinematic hyper elements', 'art render octane concept body cyberpunk white character', 'art character beautiful wearing design quality black cyberpunk', 'art inspired helmet concept design glowing shinkai makoto', 'artgerm greg rutkowski illustration hdr loish hd facial', 'artstation pen ink black trending white frank winning', 'armor portrait artgerm illustration white beautiful cyberpunk style', 'render quality beautiful cinematic high digital model octane', 'realistic military soldier trending high cyberpunk design artstation']\n",
      "\n",
      "\n",
      "\n"
     ]
    }
   ],
   "source": [
    "for cluster in clusters:\n",
    "    topics = get_eigen_topics(cluster)\n",
    "    print(topics)\n",
    "    print('\\n\\n')"
   ]
  },
  {
   "cell_type": "code",
   "execution_count": 50,
   "metadata": {},
   "outputs": [
    {
     "name": "stderr",
     "output_type": "stream",
     "text": [
      "Bad pipe message: %s [b'/5\\x0bsWZ\\xb6X\\nr\\xbe\\xcf\\x1cA.Jb\\x03\\x00\\x00|\\xc0,\\xc00\\x00\\xa3\\x00\\x9f\\xcc\\xa9\\xcc\\xa8\\xcc\\xaa\\xc0\\xaf\\xc0\\xad\\xc0\\xa3\\xc0\\x9f\\xc0]\\xc0a\\xc0W\\xc0S\\xc0+\\xc0']\n",
      "Bad pipe message: %s [b\"\\xa2\\x00\\x9e\\xc0\\xae\\xc0\\xac\\xc0\\xa2\\xc0\\x9e\\xc0\\\\\\xc0`\\xc0V\\xc0R\\xc0$\\xc0(\\x00k\\x00j\\xc0#\\xc0'\\x00g\\x00@\\xc0\\n\\xc0\\x14\\x009\\x008\\xc0\\t\\xc0\"]\n",
      "Bad pipe message: %s [b'3\\x002\\x00\\x9d\\xc0\\xa1\\xc0\\x9d\\xc0Q\\x00\\x9c\\xc0\\xa0\\xc0\\x9c\\xc0']\n",
      "Bad pipe message: %s [b'\\xa2\\xa3\\xe3$\\xf8n\\xf7\\xe9(\\xa4', b\"s\\xa2\\x08e\\xc4\\x19\\x00\\x00\\xa6\\xc0,\\xc00\\x00\\xa3\\x00\\x9f\\xcc\\xa9\\xcc\\xa8\\xcc\\xaa\\xc0\\xaf\\xc0\\xad\\xc0\\xa3\\xc0\\x9f\\xc0]\\xc0a\\xc0W\\xc0S\\xc0+\\xc0/\\x00\\xa2\\x00\\x9e\\xc0\\xae\\xc0\\xac\\xc0\\xa2\\xc0\\x9e\\xc0\\\\\\xc0`\\xc0V\\xc0R\\xc0$\\xc0(\\x00k\\x00j\\xc0s\\xc0w\\x00\\xc4\\x00\\xc3\\xc0#\\xc0'\\x00g\\x00@\\xc0r\\xc0v\\x00\\xbe\\x00\\xbd\\xc0\\n\\xc0\\x14\\x009\\x008\\x00\\x88\\x00\\x87\\xc0\\t\\xc0\\x13\\x003\\x002\\x00\\x9a\\x00\\x99\\x00E\\x00D\\xc0\\x07\\xc0\\x11\\xc0\\x08\\xc0\\x12\\x00\\x16\\x00\\x13\\x00\\x9d\\xc0\\xa1\\xc0\\x9d\\xc0Q\\x00\\x9c\\xc0\\xa0\\xc0\\x9c\\xc0P\\x00=\\x00\\xc0\\x00<\\x00\\xba\\x005\\x00\\x84\\x00/\\x00\\x96\\x00A\\x00\\x05\\x00\\n\\x00\\xff\\x01\\x00\\x00j\\x00\\x00\\x00\\x0e\\x00\\x0c\\x00\\x00\\t127.0.0.1\\x00\\x0b\\x00\\x04\\x03\\x00\\x01\\x02\\x00\", b'\\x0c\\x00\\n\\x00\\x1d\\x00\\x17\\x00\\x1e']\n",
      "Bad pipe message: %s [b'=\\x00<\\x005\\x00/\\x00\\x9a\\x00\\x99\\xc0\\x07\\xc0\\x11\\x00\\x96\\x00\\x05\\x00\\xff\\x01\\x00\\x00j\\x00\\x00\\x00\\x0e\\x00\\x0c\\x00\\x00\\t127.0.0.1\\x00\\x0b\\x00\\x04\\x03\\x00\\x01\\x02\\x00\\n\\x00\\x0c\\x00\\n\\x00\\x1d\\x00\\x17\\x00\\x1e\\x00\\x19\\x00\\x18\\x00#\\x00\\x00\\x00\\x16\\x00\\x00\\x00\\x17\\x00\\x00']\n",
      "Bad pipe message: %s [b'\\xde\\x9f\\x0e\\xcf9\\xdc\\xe7r\\xb2\\x87\\xb2`\\xda:c!\\xfe\\xf2\\x00\\x00>\\xc0\\x14\\xc0\\n\\x009\\x008\\x007\\x006\\xc0\\x0f\\xc0\\x05\\x005\\xc0\\x13\\xc0\\t\\x003\\x002\\x001\\x000\\xc0\\x0e\\xc0\\x04\\x00/\\x00\\x9a\\x00\\x99\\x00\\x98\\x00\\x97\\x00\\x96\\x00\\x07\\xc0\\x11\\xc0\\x07\\xc0\\x0c\\xc0\\x02\\x00\\x05\\x00\\x04\\x00\\xff\\x02\\x01\\x00\\x00C\\x00\\x00\\x00\\x0e\\x00\\x0c\\x00\\x00\\t127.0.0.1\\x00\\x0b\\x00\\x04\\x03\\x00\\x01\\x02\\x00\\n\\x00\\x1c\\x00\\x1a\\x00\\x17\\x00\\x19\\x00\\x1c\\x00\\x1b\\x00\\x18\\x00\\x1a\\x00\\x16\\x00\\x0e\\x00']\n",
      "Bad pipe message: %s [b'\\x0b\\x00\\x0c\\x00\\t\\x00\\n\\x00#\\x00\\x00\\x00']\n",
      "Bad pipe message: %s [b'\\xc7\\x07\\xfeS,\\x93\\xc5\\xb7\\x1b|KW\\x1eZ\\x97\\x93j\\xc4\\x00\\x00>\\xc0\\x14\\xc0\\n\\x009\\x008\\x007\\x006\\xc0\\x0f\\xc0\\x05\\x005']\n",
      "Bad pipe message: %s [b'm\\xbf\\x8d\\xff\\xaee\\xb1\\x9bJ\\x96\\x00\"\\xa9K\\xeb\\xc3\\xa9\\xab\\x00\\x00\\xa2\\xc0\\x14\\xc0\\n\\x009\\x008\\x007\\x006\\x00\\x88\\x00\\x87\\x00\\x86\\x00\\x85\\xc0\\x19\\x00:\\x00\\x89\\xc0\\x0f\\xc0\\x05\\x005\\x00\\x84\\xc0\\x13\\xc0\\t\\x003\\x002\\x001\\x000\\x00\\x9a\\x00\\x99\\x00\\x98\\x00\\x97\\x00E\\x00D\\x00C\\x00B\\xc0\\x18\\x004\\x00\\x9b\\x00F\\xc0\\x0e\\xc0\\x04\\x00/\\x00\\x96\\x00A\\x00\\x07\\xc0\\x11\\xc0\\x07\\xc0\\x16\\x00', b'\\x0c\\xc0\\x02\\x00\\x05\\x00\\x04\\xc0\\x12\\xc0\\x08\\x00\\x16\\x00\\x13\\x00\\x10\\x00\\r\\xc0\\x17\\x00\\x1b']\n",
      "Bad pipe message: %s [b\"~#Cl\\x99\\xcb\\n\\x82\\n\\xcd\\xe6V:\\x12U-\\xacF\\x00\\x00\\x86\\xc00\\xc0,\\xc0(\\xc0$\\xc0\\x14\\xc0\\n\\x00\\xa5\\x00\\xa3\\x00\\xa1\\x00\\x9f\\x00k\\x00j\\x00i\\x00h\\x009\\x008\\x007\\x006\\xc02\\xc0.\\xc0*\\xc0&\\xc0\\x0f\\xc0\\x05\\x00\\x9d\\x00=\\x005\\xc0/\\xc0+\\xc0'\\xc0#\\xc0\\x13\\xc0\\t\\x00\\xa4\\x00\\xa2\\x00\\xa0\\x00\\x9e\\x00g\\x00@\\x00?\\x00>\\x003\\x002\\x001\\x000\\xc01\\xc0-\\xc0)\\xc0%\\xc0\\x0e\\xc0\\x04\\x00\\x9c\\x00<\\x00/\\x00\\x9a\\x00\\x99\\x00\\x98\\x00\\x97\\x00\\x96\\x00\\x07\\xc0\\x11\\xc0\\x07\\xc0\\x0c\\xc0\\x02\\x00\\x05\\x00\\x04\\x00\\xff\\x02\\x01\\x00\\x00g\\x00\\x00\\x00\\x0e\\x00\\x0c\\x00\\x00\\t127.0.0.1\\x00\\x0b\\x00\\x04\\x03\\x00\\x01\\x02\\x00\\n\\x00\\x1c\\x00\\x1a\\x00\\x17\\x00\\x19\\x00\\x1c\\x00\\x1b\\x00\\x18\\x00\\x1a\\x00\\x16\\x00\\x0e\\x00\\r\\x00\\x0b\\x00\\x0c\\x00\\t\\x00\\n\\x00#\\x00\\x00\\x00\\r\"]\n",
      "Bad pipe message: %s [b\"\\xcf>{\\xd6H\\x08\\xe0'/=brj*\\xf3\\xd7\\xd8x\\x00\\x00\\xf4\\xc00\\xc0,\\xc0(\\xc0$\\xc0\\x14\\xc0\\n\\x00\\xa5\\x00\\xa3\\x00\\xa1\\x00\\x9f\\x00k\\x00j\\x00i\\x00h\\x009\\x008\\x007\\x006\\x00\\x88\\x00\\x87\\x00\\x86\\x00\\x85\\xc0\\x19\\x00\\xa7\\x00m\\x00:\\x00\\x89\\xc02\\xc0.\\xc0*\\xc0&\\xc0\\x0f\\xc0\\x05\\x00\\x9d\\x00=\\x005\\x00\\x84\\xc0/\\xc0+\\xc0'\\xc0#\\xc0\\x13\\xc0\\t\\x00\\xa4\\x00\\xa2\\x00\\xa0\\x00\\x9e\\x00g\\x00@\\x00?\\x00>\\x003\\x002\\x001\\x000\\x00\\x9a\\x00\\x99\\x00\\x98\\x00\\x97\\x00E\\x00D\\x00C\\x00B\\xc0\\x18\\x00\\xa6\\x00l\\x004\\x00\\x9b\\x00F\\xc0\", b'-\\xc0)\\xc0%\\xc0\\x0e\\xc0\\x04\\x00\\x9c\\x00<\\x00/\\x00\\x96\\x00A\\x00\\x07\\xc0\\x11\\xc0\\x07\\xc0\\x16\\x00\\x18\\xc0\\x0c\\xc0\\x02\\x00\\x05\\x00\\x04\\xc0\\x12\\xc0\\x08\\x00\\x16\\x00\\x13\\x00\\x10\\x00']\n",
      "Bad pipe message: %s [b'\\x17\\x00\\x1b\\xc0\\r\\xc0\\x03\\x00\\n\\x00\\x15\\x00']\n",
      "Bad pipe message: %s [b'\\x0f\\x00\\x0c\\x00\\x1a\\x00\\t\\x00\\x14\\x00\\x11\\x00\\x19\\x00\\x08\\x00\\x06']\n"
     ]
    }
   ],
   "source": [
    "\n",
    "model = SentenceTransformer('paraphrase-MiniLM-L6-v2', device='cpu')\n",
    "embeddings = model.encode(prompts)"
   ]
  },
  {
   "cell_type": "code",
   "execution_count": null,
   "metadata": {},
   "outputs": [],
   "source": [
    "embeddings.shape"
   ]
  },
  {
   "cell_type": "code",
   "execution_count": null,
   "metadata": {},
   "outputs": [],
   "source": [
    "queries = []\n",
    "top_k = 5\n",
    "for topic in topics:\n",
    "    tq = model.encode([topic], device='cpu')\n",
    "    cos_scores = util.cos_sim(tq, embeddings)[0]\n",
    "    top_results = torch.topk(cos_scores, k=top_k)\n",
    "    print(\"\\n\\nTopic: \", topic)\n",
    "    print(\"Top 2 most similar prompts:\")\n",
    "    for score, idx in zip(top_results[0], top_results[1]):\n",
    "        print(prompts[idx], \"(Score: %.4f)\" % (score))\n",
    "        if score > 0.4:\n",
    "            queries.append(prompts[idx])\n",
    "        print('\\n')\n",
    "##TODO use a different model for the queries(word embeddings, sense2vec)"
   ]
  },
  {
   "cell_type": "code",
   "execution_count": null,
   "metadata": {},
   "outputs": [],
   "source": [
    "from PIL import Image\n",
    "import requests as r\n",
    "from io import BytesIO  \n",
    "def query_lexica(query, num_images=5):\n",
    "    '''\n",
    "    query: string\n",
    "    num_images: int\n",
    "    '''\n",
    "    resp = r.get(f\"https://lexica.art/api/v1/search?q={query}\", timeout=5)\n",
    "    images = []\n",
    "    for img in resp.json()['images']:\n",
    "        if len(images) == num_images:\n",
    "            break\n",
    "        url = img['src']\n",
    "        response = r.get(url, timeout=5)\n",
    "        img = Image.open(BytesIO(response.content))\n",
    "        images.append(img)\n",
    "    return images"
   ]
  },
  {
   "cell_type": "code",
   "execution_count": null,
   "metadata": {},
   "outputs": [],
   "source": [
    "images = []\n",
    "for query in queries:\n",
    "    image = query_lexica(query, num_images=2)\n",
    "    images+= image"
   ]
  },
  {
   "cell_type": "code",
   "execution_count": null,
   "metadata": {},
   "outputs": [],
   "source": [
    "len(images)"
   ]
  },
  {
   "cell_type": "code",
   "execution_count": null,
   "metadata": {},
   "outputs": [],
   "source": [
    "display(image_grid(images, 10,10 ))"
   ]
  },
  {
   "cell_type": "code",
   "execution_count": null,
   "metadata": {},
   "outputs": [],
   "source": []
  }
 ],
 "metadata": {
  "kernelspec": {
   "display_name": "Python 3.10.4 64-bit",
   "language": "python",
   "name": "python3"
  },
  "language_info": {
   "codemirror_mode": {
    "name": "ipython",
    "version": 3
   },
   "file_extension": ".py",
   "mimetype": "text/x-python",
   "name": "python",
   "nbconvert_exporter": "python",
   "pygments_lexer": "ipython3",
   "version": "3.10.4"
  },
  "orig_nbformat": 4,
  "vscode": {
   "interpreter": {
    "hash": "3ad933181bd8a04b432d3370b9dc3b0662ad032c4dfaa4e4f1596c548f763858"
   }
  }
 },
 "nbformat": 4,
 "nbformat_minor": 2
}
