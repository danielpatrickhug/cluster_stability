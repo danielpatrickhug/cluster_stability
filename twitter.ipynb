{
 "cells": [
  {
   "cell_type": "code",
   "execution_count": 1,
   "metadata": {},
   "outputs": [
    {
     "name": "stderr",
     "output_type": "stream",
     "text": [
      "/home/codespace/.local/lib/python3.10/site-packages/tqdm/auto.py:22: TqdmWarning: IProgress not found. Please update jupyter and ipywidgets. See https://ipywidgets.readthedocs.io/en/stable/user_install.html\n",
      "  from .autonotebook import tqdm as notebook_tqdm\n"
     ]
    }
   ],
   "source": [
    "from src._clusterstability import *\n",
    "from sentence_transformers import SentenceTransformer, util\n",
    "import torch"
   ]
  },
  {
   "cell_type": "code",
   "execution_count": 2,
   "metadata": {},
   "outputs": [
    {
     "name": "stderr",
     "output_type": "stream",
     "text": [
      "Using custom data configuration Gustavosta--Stable-Diffusion-Prompts-d22aeec0ba2a9fdb\n",
      "Found cached dataset parquet (/home/codespace/.cache/huggingface/datasets/Gustavosta___parquet/Gustavosta--Stable-Diffusion-Prompts-d22aeec0ba2a9fdb/0.0.0/2a3b91fbd88a2c90d1dbbb32b460cf621d31bd5b05b934492fdef7d8d6f236ec)\n",
      "100%|██████████| 2/2 [00:00<00:00, 532.54it/s]\n"
     ]
    }
   ],
   "source": [
    "from datasets import load_dataset\n",
    "ds = load_dataset(\"Gustavosta/Stable-Diffusion-Prompts\")\n",
    "prompts = []\n",
    "for i, prompt in enumerate(ds['train']):\n",
    "    prompts.append(prompt['Prompt'])"
   ]
  },
  {
   "cell_type": "code",
   "execution_count": 4,
   "metadata": {},
   "outputs": [
    {
     "name": "stdout",
     "output_type": "stream",
     "text": [
      "CountVectorizer(ngram_range=(2, 2), stop_words='english')\n"
     ]
    },
    {
     "name": "stderr",
     "output_type": "stream",
     "text": [
      "/home/codespace/.local/lib/python3.10/site-packages/sklearn/utils/deprecation.py:87: FutureWarning: Function get_feature_names is deprecated; get_feature_names is deprecated in 1.0 and will be removed in 1.2. Please use get_feature_names_out instead.\n",
      "  warnings.warn(msg, category=FutureWarning)\n"
     ]
    },
    {
     "data": {
      "text/plain": [
       "['ask shall man performance tin man given seek seek ye shall given crossroad beauty wonderland crossroad']"
      ]
     },
     "execution_count": 4,
     "metadata": {},
     "output_type": "execute_result"
    }
   ],
   "source": [
    "two_gram_topics = get_eigen_topics_ngrams(prompts[:5000], ngram_range=(2,2), v_1=0, v_2=10)\n",
    "#print two_gram_topics\n",
    "#split topic string by ngram \n",
    "two_gram_topics = [topic.split(' ') for topic in two_gram_topics]\n"
   ]
  },
  {
   "cell_type": "code",
   "execution_count": null,
   "metadata": {},
   "outputs": [],
   "source": [
    "two_gram_topics"
   ]
  },
  {
   "cell_type": "code",
   "execution_count": 5,
   "metadata": {},
   "outputs": [
    {
     "name": "stdout",
     "output_type": "stream",
     "text": [
      "CountVectorizer(ngram_range=(3, 3), stop_words='english')\n",
      "3d render diorama\n",
      "artgerm greg rutkowski\n",
      "concept art smooth\n",
      "detailed digital painting\n",
      "highly detailed digital\n",
      "card frame card\n",
      "elegant highly detailed\n",
      "stanley artgerm lau\n",
      "artstation concept art\n",
      "realism high octane\n"
     ]
    },
    {
     "name": "stderr",
     "output_type": "stream",
     "text": [
      "/home/codespace/.local/lib/python3.10/site-packages/sklearn/utils/deprecation.py:87: FutureWarning: Function get_feature_names is deprecated; get_feature_names is deprecated in 1.0 and will be removed in 1.2. Please use get_feature_names_out instead.\n",
      "  warnings.warn(msg, category=FutureWarning)\n"
     ]
    },
    {
     "name": "stderr",
     "output_type": "stream",
     "text": [
      "Bad pipe message: %s [b'\\xc2\\x01\\xe6TLz\\x95(b\\xe7\\xd5\\xa3\\x0e\\xe6\\n\\x8bZ. \\x07\\x10>Q-x\\xe6\\x98x\\xf8\\x10\\\\\\xe5\\xcc\\x0b\\xd5\\x93_\\x8d\\\\\\xbb\\xd7\\xc4\\xcb\\x88\\xac', b'*\\xa2\\xc5\\x97']\n",
      "Bad pipe message: %s [b'\\x8b\\xf3\\xba\\xa6\\x8e\\xc2\\\\\\x86\\xf8_\\xd0\\x11\\x15\\xbb}C\\xce\\x83 Y\\x05\\xf6;\\x17\\xd2\\x01\\\\2\\xc8d', b'\\xab\\x87\\xee\\x8b\\xbd\\xb2Q\\xc3L[N@\\xb5Q\\x10B\\xe1\\xd3\\xe4\\x00\\x08\\x13\\x02\\x13\\x03\\x13\\x01\\x00\\xff\\x01\\x00\\x00\\x8f\\x00\\x00\\x00\\x0e\\x00\\x0c\\x00\\x00\\t127.0.0.1\\x00\\x0b\\x00\\x04\\x03\\x00\\x01\\x02\\x00\\n\\x00\\x0c\\x00\\n\\x00\\x1d\\x00\\x17\\x00\\x1e\\x00\\x19\\x00\\x18\\x00#\\x00\\x00\\x00\\x16\\x00\\x00\\x00\\x17\\x00\\x00\\x00\\r\\x00\\x1e\\x00\\x1c\\x04\\x03\\x05\\x03\\x06\\x03\\x08\\x07\\x08\\x08\\x08\\t\\x08\\n\\x08\\x0b\\x08\\x04\\x08\\x05\\x08\\x06\\x04\\x01\\x05\\x01\\x06\\x01\\x00+\\x00\\x03\\x02\\x03\\x04\\x00-\\x00\\x02\\x01\\x01\\x003\\x00&\\x00$\\x00\\x1d\\x00 ']\n",
      "Bad pipe message: %s [b\"\\x9d\\xc7\\xf4\\x85\\xf1L\\xb7\\x8d\\xfe?\\x83\\xfa\\x10%\\xe1\\x9c\\xc3\\r\\x00\\x00|\\xc0,\\xc00\\x00\\xa3\\x00\\x9f\\xcc\\xa9\\xcc\\xa8\\xcc\\xaa\\xc0\\xaf\\xc0\\xad\\xc0\\xa3\\xc0\\x9f\\xc0]\\xc0a\\xc0W\\xc0S\\xc0+\\xc0/\\x00\\xa2\\x00\\x9e\\xc0\\xae\\xc0\\xac\\xc0\\xa2\\xc0\\x9e\\xc0\\\\\\xc0`\\xc0V\\xc0R\\xc0$\\xc0(\\x00k\\x00j\\xc0#\\xc0'\\x00g\\x00@\\xc0\\n\\xc0\\x14\\x009\\x008\\xc0\\t\\xc0\\x13\\x003\\x002\\x00\\x9d\\xc0\\xa1\\xc0\\x9d\\xc0Q\\x00\\x9c\\xc0\\xa0\\xc0\\x9c\\xc0P\\x00=\\x00<\\x005\\x00/\\x00\\x9a\\x00\\x99\\xc0\\x07\\xc0\\x11\\x00\\x96\"]\n",
      "Bad pipe message: %s [b\"U%\\xda&k\\xb5z\\xf1\\x15\\x07\\x8eV/\\x84\\x91\\xf6S\\xcd\\x00\\x00\\xa6\\xc0,\\xc00\\x00\\xa3\\x00\\x9f\\xcc\\xa9\\xcc\\xa8\\xcc\\xaa\\xc0\\xaf\\xc0\\xad\\xc0\\xa3\\xc0\\x9f\\xc0]\\xc0a\\xc0W\\xc0S\\xc0+\\xc0/\\x00\\xa2\\x00\\x9e\\xc0\\xae\\xc0\\xac\\xc0\\xa2\\xc0\\x9e\\xc0\\\\\\xc0`\\xc0V\\xc0R\\xc0$\\xc0(\\x00k\\x00j\\xc0s\\xc0w\\x00\\xc4\\x00\\xc3\\xc0#\\xc0'\\x00g\\x00@\\xc0r\\xc0v\\x00\\xbe\\x00\\xbd\\xc0\\n\\xc0\\x14\\x009\\x008\\x00\\x88\\x00\\x87\\xc0\\t\\xc0\\x13\\x003\\x002\\x00\\x9a\\x00\\x99\\x00E\\x00D\\xc0\\x07\\xc0\\x11\\xc0\\x08\\xc0\\x12\\x00\\x16\"]\n",
      "Bad pipe message: %s [b'\\x10\\x0b\\x9d-\\x0e8_\\xc4c\\xc6\"U\\xa6U\\x02y\\xb1\\xc4\\x00\\x00\\xa2\\xc0\\x14\\xc0\\n\\x009\\x008\\x007\\x006\\x00\\x88\\x00\\x87\\x00\\x86\\x00\\x85\\xc0\\x19\\x00:\\x00\\x89\\xc0\\x0f\\xc0\\x05\\x005\\x00\\x84\\xc0\\x13\\xc0\\t\\x003\\x002\\x001\\x000\\x00\\x9a\\x00\\x99\\x00\\x98\\x00\\x97\\x00E\\x00D']\n",
      "Bad pipe message: %s [b'_\\x1a*_\\x86A>\\xe4o\\xc4\\xf6\\xa9&\\xd1\\xe6&\\x0b\\xd0\\x00\\x00>\\xc0\\x14\\xc0\\n\\x009\\x008\\x007\\x006\\xc0\\x0f\\xc0\\x05\\x005\\xc0\\x13\\xc0\\t\\x003\\x002\\x001\\x000\\xc0\\x0e\\xc0\\x04\\x00/\\x00\\x9a\\x00\\x99\\x00\\x98\\x00\\x97\\x00\\x96\\x00\\x07\\xc0\\x11\\xc0\\x07\\xc0\\x0c\\xc0\\x02\\x00\\x05\\x00\\x04\\x00\\xff\\x02\\x01\\x00\\x00C\\x00\\x00\\x00\\x0e\\x00\\x0c\\x00\\x00\\t127.0', b'.1\\x00\\x0b\\x00\\x04\\x03\\x00\\x01\\x02\\x00\\n\\x00\\x1c\\x00\\x1a\\x00\\x17\\x00\\x19\\x00\\x1c\\x00\\x1b\\x00\\x18\\x00\\x1a\\x00\\x16\\x00\\x0e\\x00\\r\\x00\\x0b\\x00\\x0c\\x00\\t\\x00\\n\\x00#\\x00']\n",
      "Bad pipe message: %s [b']Y']\n",
      "Bad pipe message: %s [b'-\\x88]\\xa5\\xb0\\xe7,\\xdag\\x02\\x80y\\x14z\\\\\\xe7\\xc3\\x16\\x00\\x00\\x86\\xc00\\xc0,\\xc0(\\xc0$\\xc0\\x14\\xc0\\n\\x00\\xa5\\x00\\xa3\\x00\\xa1\\x00\\x9f\\x00k\\x00j\\x00i\\x00h\\x009\\x008\\x007\\x006\\xc02\\xc0.\\xc0*\\xc0&\\xc0\\x0f\\xc0\\x05']\n"
     ]
    }
   ],
   "source": [
    "three_gram_topics= get_eigen_topics_ngrams(prompts[:5000], ngram_range=(3,3), v_1=0, v_2=10)\n",
    "for topic in three_gram_topics:\n",
    "    words = topic.split(' ')\n",
    "    print(\" \".join(words[:3]))"
   ]
  },
  {
   "cell_type": "code",
   "execution_count": 8,
   "metadata": {},
   "outputs": [
    {
     "name": "stdout",
     "output_type": "stream",
     "text": [
      "CountVectorizer(ngram_range=(4, 4), stop_words='english')\n"
     ]
    },
    {
     "name": "stderr",
     "output_type": "stream",
     "text": [
      "/home/codespace/.local/lib/python3.10/site-packages/sklearn/utils/deprecation.py:87: FutureWarning: Function get_feature_names is deprecated; get_feature_names is deprecated in 1.0 and will be removed in 1.2. Please use get_feature_names_out instead.\n",
      "  warnings.warn(msg, category=FutureWarning)\n"
     ]
    },
    {
     "name": "stdout",
     "output_type": "stream",
     "text": [
      "1944 oil canvas white 2d character concept art acrylic canvas concept art\n",
      "concept art smooth sharp art smooth sharp focus artstation concept art smooth\n",
      "intricate elegant highly detailed concept art matte sharp art matte sharp focus\n",
      "sharp focus illustration art highly detailed digital painting focus illustration art artgerm\n",
      "concept art smooth sharp art smooth sharp focus elegant highly detailed digital\n",
      "focus illustration art artgerm illustration art artgerm greg sharp focus illustration art\n",
      "artgerm greg rutkowski alphonse art artgerm greg rutkowski detailed epic cinematic concept\n",
      "concept art sharp focus digital painting artstation concept painting artstation concept art\n",
      "focus illustration art artgerm elegant highly detailed digital illustration art artgerm greg\n",
      "hyper realism high octane realism high octane render trending artstation greg rutkowski\n",
      "concept art intricate details octane render unreal engine highly detailed photorealistic octane\n",
      "highly detailed digital painting digital painting concept art detailed digital painting concept\n",
      "maya blender photoshop octane photoshop octane render excellent octane render excellent composition\n",
      "focus illustration art artgerm illustration art artgerm greg sharp focus illustration art\n",
      "smooth sharp focus illustration sharp focus illustration art detailed digital painting artstation\n",
      "shadows strong rim light colors hard shadows strong vibrant colors hard shadows\n",
      "sharp focus illustration art focus illustration art artgerm illustration art artgerm greg\n",
      "greg rutkowski alphonse mucha intricate elegant highly detailed painting artstation concept art\n",
      "sharp details hyper detailed donato giancola larry elmore trending artstation featured pixiv\n",
      "painting artstation concept art digital painting artstation concept digital painting concept art\n",
      "michael garmash rob rey jeremy lipkin michael garmash artgerm jeremy lipkin michael\n",
      "detailed digital painting artstation intricate elegant highly detailed greg rutkowski alphonse mucha\n",
      "lighting masterpiece trending artstation cinematic lighting masterpiece trending masterpiece trending artstation detailed\n",
      "artstation concept art smooth intricate elegant highly detailed elegant highly detailed centered\n",
      "concept art matte sharp art matte sharp focus digital painting concept art\n",
      "stanley artgerm lau wlop artgerm lau wlop rossdraws wlop rossdraws james jean\n",
      "detailed beautiful establishing shot establishing shot artistic hyperrealistic beautiful establishing shot artistic\n",
      "art artgerm greg rutkowski elegant highly detailed digital intricate elegant highly detailed\n",
      "digital art trending artstation cinematic lighting studio quality detailed digital art trending\n",
      "artstation sharp focus illustration detailed artstation sharp focus highly detailed artstation sharp\n",
      "trending artstation octane render hyper realism octane render realism octane render 8k\n",
      "sharp focus illustration art art matte sharp focus concept art matte sharp\n",
      "elegant highly detailed digital digital painting trending artstation design art octane render\n",
      "sharp focus illustration unreal focus illustration unreal engine intricate highly detailed digital\n",
      "greg rutkowski makoto shinkai makoto shinkai takashi takeuchi shinkai takashi takeuchi studio\n",
      "sharp focus illustration art highly detailed professional digital detailed professional digital painting\n",
      "sharp focus illustration art highly detailed professional digital detailed professional digital painting\n",
      "rossdraws james jean andrei wlop rossdraws james jean lau wlop rossdraws james\n",
      "greg rutkowski alphonse mucha smooth sharp focus illustration concept art sharp focus\n",
      "stanley artgerm lau greg artgerm lau greg rutkowski lau greg rutkowski thomas\n",
      "art artgerm greg rutkowski greg rutkowski magali villeneuve artgerm greg rutkowski magali\n",
      "detailed artstation concept art detailed digital painting artstation hyper detailed artstation concept\n",
      "art artstation matte painting concept art artstation matte post processed concept art\n",
      "shinkai lois van baarle makoto shinkai lois van van baarle ilya kuvshinov\n",
      "smooth sharp focus illustration art artgerm greg rutkowski greg rutkowski magali villeneuve\n",
      "shinkai lois van baarle makoto shinkai lois van van baarle ilya kuvshinov\n",
      "art sharp focus illustration concept art sharp focus greg rutkowski magali villeneuve\n",
      "intricate details highly detailed art intricate details highly concept art intricate details\n",
      "tone gradient background concept gradient background concept art cold hue warm tone\n",
      "artstation concept art matte sharp focus trending artstation detailed artstation concept art\n"
     ]
    }
   ],
   "source": [
    "four_gram_topics = get_eigen_topics_ngrams(prompts[:5000], ngram_range=(4,4), v_1=0, v_2=50)\n",
    "for topic in four_gram_topics:\n",
    "    words = topic.split(' ')\n",
    "    print(\" \".join(words[:4]), \" \".join(words[4:8]), \" \".join(words[8:12]))"
   ]
  },
  {
   "cell_type": "code",
   "execution_count": null,
   "metadata": {},
   "outputs": [],
   "source": []
  }
 ],
 "metadata": {
  "kernelspec": {
   "display_name": "Python 3.10.4 64-bit",
   "language": "python",
   "name": "python3"
  },
  "language_info": {
   "codemirror_mode": {
    "name": "ipython",
    "version": 3
   },
   "file_extension": ".py",
   "mimetype": "text/x-python",
   "name": "python",
   "nbconvert_exporter": "python",
   "pygments_lexer": "ipython3",
   "version": "3.10.4"
  },
  "orig_nbformat": 4,
  "vscode": {
   "interpreter": {
    "hash": "3ad933181bd8a04b432d3370b9dc3b0662ad032c4dfaa4e4f1596c548f763858"
   }
  }
 },
 "nbformat": 4,
 "nbformat_minor": 2
}
